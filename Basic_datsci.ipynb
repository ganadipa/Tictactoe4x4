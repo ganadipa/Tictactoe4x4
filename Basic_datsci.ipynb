{
  "nbformat": 4,
  "nbformat_minor": 0,
  "metadata": {
    "colab": {
      "provenance": []
    },
    "kernelspec": {
      "name": "python3",
      "display_name": "Python 3"
    },
    "language_info": {
      "name": "python"
    }
  },
  "cells": [
    {
      "cell_type": "markdown",
      "source": [
        "# Referensi yang Mungkin Berguna\n",
        "1. Tutorial pandas dan membuat grafik https://www.youtube.com/watch?v=dcqPhpY7tWk\n",
        "2. Tutorial pandas juga tapi tertulis https://www.geeksforgeeks.org/pandas-tutorial/"
      ],
      "metadata": {
        "id": "ppdZuBGGcQvc"
      }
    },
    {
      "cell_type": "code",
      "source": [
        "import pandas as pd\n",
        "import matplotlib.pyplot as plt"
      ],
      "metadata": {
        "id": "NXcndXDhBDit"
      },
      "execution_count": null,
      "outputs": []
    },
    {
      "cell_type": "code",
      "source": [
        "from google.colab import drive\n",
        "drive.mount('/content/drive')"
      ],
      "metadata": {
        "id": "t-qXYJ0nBThH",
        "outputId": "234ed917-60c0-4f8b-d2e2-d4a5ce460d10",
        "colab": {
          "base_uri": "https://localhost:8080/"
        }
      },
      "execution_count": null,
      "outputs": [
        {
          "output_type": "stream",
          "name": "stdout",
          "text": [
            "Mounted at /content/drive\n"
          ]
        }
      ]
    },
    {
      "cell_type": "markdown",
      "source": [
        "# Baca data dari file .csv\n",
        "1. Unduh loan_sanction_train.csv dari https://www.kaggle.com/datasets/rishikeshkonapure/home-loan-approval\n",
        "2. Gunakan pandas untuk membaca file tersebut\n",
        "3. Print dataframe yang telah dibaca"
      ],
      "metadata": {
        "id": "A594MM6jW6eR"
      }
    },
    {
      "cell_type": "code",
      "source": [
        "df = pd.read_csv(\"/content/drive/MyDrive/loan_sanction_train.csv\")\n",
        "print(df)"
      ],
      "metadata": {
        "id": "VEwY9c7bCTvY",
        "colab": {
          "base_uri": "https://localhost:8080/"
        },
        "outputId": "76dfb666-f042-4f40-dd17-f362f532f715"
      },
      "execution_count": null,
      "outputs": [
        {
          "output_type": "stream",
          "name": "stdout",
          "text": [
            "      Loan_ID  Gender Married Dependents     Education Self_Employed  \\\n",
            "0    LP001002    Male      No          0      Graduate            No   \n",
            "1    LP001003    Male     Yes          1      Graduate            No   \n",
            "2    LP001005    Male     Yes          0      Graduate           Yes   \n",
            "3    LP001006    Male     Yes          0  Not Graduate            No   \n",
            "4    LP001008    Male      No          0      Graduate            No   \n",
            "..        ...     ...     ...        ...           ...           ...   \n",
            "609  LP002978  Female      No          0      Graduate            No   \n",
            "610  LP002979    Male     Yes         3+      Graduate            No   \n",
            "611  LP002983    Male     Yes          1      Graduate            No   \n",
            "612  LP002984    Male     Yes          2      Graduate            No   \n",
            "613  LP002990  Female      No          0      Graduate           Yes   \n",
            "\n",
            "     ApplicantIncome  CoapplicantIncome  LoanAmount  Loan_Amount_Term  \\\n",
            "0               5849                0.0         NaN             360.0   \n",
            "1               4583             1508.0       128.0             360.0   \n",
            "2               3000                0.0        66.0             360.0   \n",
            "3               2583             2358.0       120.0             360.0   \n",
            "4               6000                0.0       141.0             360.0   \n",
            "..               ...                ...         ...               ...   \n",
            "609             2900                0.0        71.0             360.0   \n",
            "610             4106                0.0        40.0             180.0   \n",
            "611             8072              240.0       253.0             360.0   \n",
            "612             7583                0.0       187.0             360.0   \n",
            "613             4583                0.0       133.0             360.0   \n",
            "\n",
            "     Credit_History Property_Area Loan_Status  \n",
            "0               1.0         Urban           Y  \n",
            "1               1.0         Rural           N  \n",
            "2               1.0         Urban           Y  \n",
            "3               1.0         Urban           Y  \n",
            "4               1.0         Urban           Y  \n",
            "..              ...           ...         ...  \n",
            "609             1.0         Rural           Y  \n",
            "610             1.0         Rural           Y  \n",
            "611             1.0         Urban           Y  \n",
            "612             1.0         Urban           Y  \n",
            "613             0.0     Semiurban           N  \n",
            "\n",
            "[614 rows x 13 columns]\n"
          ]
        }
      ]
    },
    {
      "cell_type": "markdown",
      "source": [
        "# Filter dan sort\n",
        "1. Tampilkan data loan oleh seorang laki-laki!\n",
        "2. Urutkan data berdasar jumlah pinjaman!\n",
        "(cukup tampilkan hasil akhir dari dua perintah di atas)"
      ],
      "metadata": {
        "id": "tUo0DyL7X4RK"
      }
    },
    {
      "cell_type": "code",
      "source": [
        "male_data = df.loc[df['Gender'] == 'Male']\n",
        "print(male_data)"
      ],
      "metadata": {
        "colab": {
          "base_uri": "https://localhost:8080/"
        },
        "id": "lb9d-y2kCujG",
        "outputId": "85db083a-439c-46e4-fd5b-0883df2496ea"
      },
      "execution_count": null,
      "outputs": [
        {
          "output_type": "stream",
          "name": "stdout",
          "text": [
            "      Loan_ID Gender Married Dependents     Education Self_Employed  \\\n",
            "0    LP001002   Male      No          0      Graduate            No   \n",
            "1    LP001003   Male     Yes          1      Graduate            No   \n",
            "2    LP001005   Male     Yes          0      Graduate           Yes   \n",
            "3    LP001006   Male     Yes          0  Not Graduate            No   \n",
            "4    LP001008   Male      No          0      Graduate            No   \n",
            "..        ...    ...     ...        ...           ...           ...   \n",
            "607  LP002964   Male     Yes          2  Not Graduate            No   \n",
            "608  LP002974   Male     Yes          0      Graduate            No   \n",
            "610  LP002979   Male     Yes         3+      Graduate            No   \n",
            "611  LP002983   Male     Yes          1      Graduate            No   \n",
            "612  LP002984   Male     Yes          2      Graduate            No   \n",
            "\n",
            "     ApplicantIncome  CoapplicantIncome  LoanAmount  Loan_Amount_Term  \\\n",
            "0               5849                0.0         NaN             360.0   \n",
            "1               4583             1508.0       128.0             360.0   \n",
            "2               3000                0.0        66.0             360.0   \n",
            "3               2583             2358.0       120.0             360.0   \n",
            "4               6000                0.0       141.0             360.0   \n",
            "..               ...                ...         ...               ...   \n",
            "607             3987             1411.0       157.0             360.0   \n",
            "608             3232             1950.0       108.0             360.0   \n",
            "610             4106                0.0        40.0             180.0   \n",
            "611             8072              240.0       253.0             360.0   \n",
            "612             7583                0.0       187.0             360.0   \n",
            "\n",
            "     Credit_History Property_Area Loan_Status  \n",
            "0               1.0         Urban           Y  \n",
            "1               1.0         Rural           N  \n",
            "2               1.0         Urban           Y  \n",
            "3               1.0         Urban           Y  \n",
            "4               1.0         Urban           Y  \n",
            "..              ...           ...         ...  \n",
            "607             1.0         Rural           Y  \n",
            "608             1.0         Rural           Y  \n",
            "610             1.0         Rural           Y  \n",
            "611             1.0         Urban           Y  \n",
            "612             1.0         Urban           Y  \n",
            "\n",
            "[489 rows x 13 columns]\n"
          ]
        }
      ]
    },
    {
      "cell_type": "code",
      "source": [
        "sorted_loanAmount = df.sort_values('LoanAmount', ascending = True)\n",
        "print(sorted_loanAmount)"
      ],
      "metadata": {
        "colab": {
          "base_uri": "https://localhost:8080/"
        },
        "id": "AfnH-u3rDCGj",
        "outputId": "60977a00-f8fe-4328-8688-07c4c9d5daa2"
      },
      "execution_count": null,
      "outputs": [
        {
          "output_type": "stream",
          "name": "stdout",
          "text": [
            "      Loan_ID  Gender Married Dependents     Education Self_Employed  \\\n",
            "568  LP002840  Female      No          0      Graduate            No   \n",
            "14   LP001030    Male     Yes          2      Graduate            No   \n",
            "94   LP001325    Male      No          0  Not Graduate            No   \n",
            "133  LP001482    Male     Yes          0      Graduate           Yes   \n",
            "555  LP002792    Male     Yes          1      Graduate            No   \n",
            "..        ...     ...     ...        ...           ...           ...   \n",
            "479  LP002533    Male     Yes          2      Graduate            No   \n",
            "524  LP002697    Male      No          0      Graduate            No   \n",
            "550  LP002778    Male     Yes          2      Graduate           Yes   \n",
            "551  LP002784    Male     Yes          1  Not Graduate            No   \n",
            "605  LP002960    Male     Yes          0  Not Graduate            No   \n",
            "\n",
            "     ApplicantIncome  CoapplicantIncome  LoanAmount  Loan_Amount_Term  \\\n",
            "568             2378                0.0         9.0             360.0   \n",
            "14              1299             1086.0        17.0             120.0   \n",
            "94              3620                0.0        25.0             120.0   \n",
            "133             3459                0.0        25.0             120.0   \n",
            "555             5468             1032.0        26.0             360.0   \n",
            "..               ...                ...         ...               ...   \n",
            "479             2947             1603.0         NaN             360.0   \n",
            "524             4680             2087.0         NaN             360.0   \n",
            "550             6633                0.0         NaN             360.0   \n",
            "551             2492             2375.0         NaN             360.0   \n",
            "605             2400             3800.0         NaN             180.0   \n",
            "\n",
            "     Credit_History Property_Area Loan_Status  \n",
            "568             1.0         Urban           N  \n",
            "14              1.0         Urban           Y  \n",
            "94              1.0     Semiurban           Y  \n",
            "133             1.0     Semiurban           Y  \n",
            "555             1.0     Semiurban           Y  \n",
            "..              ...           ...         ...  \n",
            "479             1.0         Urban           N  \n",
            "524             1.0     Semiurban           N  \n",
            "550             0.0         Rural           N  \n",
            "551             1.0         Rural           Y  \n",
            "605             1.0         Urban           N  \n",
            "\n",
            "[614 rows x 13 columns]\n"
          ]
        }
      ]
    },
    {
      "cell_type": "markdown",
      "source": [
        "# Aggregating\n",
        "1. Hitung rata-rata pendapatan dari peminjam!\n",
        "2. Gender apa yang paling banyak mengajukan pinjaman, laki-laki atau perempuan?\n",
        "3. Hitung rata-rata pinjaman yang diajukan untuk masing-masing area properti!"
      ],
      "metadata": {
        "id": "TY54uyfGYyBH"
      }
    },
    {
      "cell_type": "code",
      "source": [
        "mean_applicantIncome = df['ApplicantIncome'].mean()\n",
        "print(mean_applicantIncome)"
      ],
      "metadata": {
        "colab": {
          "base_uri": "https://localhost:8080/"
        },
        "id": "lk6YIaV7DY9S",
        "outputId": "54a926ac-0cb6-4595-f3f4-37620f1bec97"
      },
      "execution_count": null,
      "outputs": [
        {
          "output_type": "stream",
          "name": "stdout",
          "text": [
            "5403.459283387622\n"
          ]
        }
      ]
    },
    {
      "cell_type": "code",
      "source": [
        "count_gender = {}\n",
        "\n",
        "for gender in df['Gender'].unique():\n",
        "  count_gender[gender] = len(df.loc[df['Gender'] == gender])\n",
        "\n",
        "if count_gender['Male'] > count_gender['Female']:\n",
        "  print('Laki-laki mengajukan pinjaman lebih banyak.')\n",
        "elif count_gender['Male'] < count_gender['Female']:\n",
        "  print('Perempuan mengajukan pinjaman lebih banyak.')\n",
        "else:\n",
        "  print('Keduanya sama banyak.')"
      ],
      "metadata": {
        "colab": {
          "base_uri": "https://localhost:8080/"
        },
        "id": "SlWpU_eEEHtU",
        "outputId": "4050be61-baf5-443e-b3aa-5c5bd7f29267"
      },
      "execution_count": null,
      "outputs": [
        {
          "output_type": "stream",
          "name": "stdout",
          "text": [
            "Laki-laki mengajukan pinjaman lebih banyak.\n"
          ]
        }
      ]
    },
    {
      "cell_type": "code",
      "source": [
        "print('Rata-rata pinjaman yang diajukan untuk properti area')\n",
        "for propArea in df['Property_Area'].unique():\n",
        "  print('\\t{}: {}'.format(propArea, df.loc[df['Property_Area'] == propArea]['LoanAmount'].mean()))"
      ],
      "metadata": {
        "colab": {
          "base_uri": "https://localhost:8080/"
        },
        "id": "G0ucCw29FhgY",
        "outputId": "ba892a66-e876-4412-bafe-ade61830da36"
      },
      "execution_count": null,
      "outputs": [
        {
          "output_type": "stream",
          "name": "stdout",
          "text": [
            "Rata-rata pinjaman yang diajukan untuk properti area\n",
            "\tUrban: 142.19895287958116\n",
            "\tRural: 152.2601156069364\n",
            "\tSemiurban: 145.50438596491227\n"
          ]
        }
      ]
    },
    {
      "cell_type": "markdown",
      "source": [
        "# Membuat Grafik\n",
        "1. Buatlah histogram untuk penghasilan peminjam, beri judul grafik, dan label untuk tiap sumbu yang jelas!\n",
        "2. Buatlah pie chart untuk tingkat pendidikan para peminjam!"
      ],
      "metadata": {
        "id": "cxcKU1PEa_SE"
      }
    },
    {
      "cell_type": "code",
      "source": [
        "plt.hist(df['ApplicantIncome'],rwidth=0.5, bins = 50)\n",
        "plt.title('frekuensi penghasilan peminjam')\n",
        "plt.xlabel('Penghasilan')\n",
        "plt.ylabel('Jumlah')\n",
        "plt.show()"
      ],
      "metadata": {
        "colab": {
          "base_uri": "https://localhost:8080/",
          "height": 295
        },
        "id": "8lxbwupRFE9U",
        "outputId": "2eb135da-5f84-410a-90fb-f4b155e7d8d3"
      },
      "execution_count": null,
      "outputs": [
        {
          "output_type": "display_data",
          "data": {
            "text/plain": [
              "<Figure size 432x288 with 1 Axes>"
            ],
            "image/png": "[encoded data removed]"
          },
          "metadata": {
            "needs_background": "light"
          }
        }
      ]
    },
    {
      "cell_type": "code",
      "source": [
        "plt.hist(df.loc[df['ApplicantIncome'] >= 20000]['ApplicantIncome'], rwidth= 0.5, bins = 7)\n",
        "plt.title('frekuensi penghasilan peminjam di atas 20000')\n",
        "plt.xlabel('Penghasilan')\n",
        "plt.ylabel('Jumlah')\n",
        "plt.show()"
      ],
      "metadata": {
        "colab": {
          "base_uri": "https://localhost:8080/",
          "height": 295
        },
        "id": "ZoXgW4qfQUhg",
        "outputId": "be40c8cf-1409-4038-d80d-ed66c8d2fc95"
      },
      "execution_count": null,
      "outputs": [
        {
          "output_type": "display_data",
          "data": {
            "text/plain": [
              "<Figure size 432x288 with 1 Axes>"
            ],
            "image/png": "[encoded data removed]"
          },
          "metadata": {
            "needs_background": "light"
          }
        }
      ]
    },
    {
      "cell_type": "code",
      "source": [
        "\n",
        "plt.pie(df['Education'].value_counts(), autopct='%.1f%%', labels = ['Graduated', 'Not graduated'])\n",
        "plt.title('Tingkat pendidikan peminjam')\n",
        "plt.show()"
      ],
      "metadata": {
        "colab": {
          "base_uri": "https://localhost:8080/",
          "height": 264
        },
        "id": "yBE23XJURgDT",
        "outputId": "c67b4d8d-e997-4a70-a14d-73c59da15cd1"
      },
      "execution_count": null,
      "outputs": [
        {
          "output_type": "display_data",
          "data": {
            "text/plain": [
              "<Figure size 432x288 with 1 Axes>"
            ],
            "image/png": "[encoded data removed]"
          },
          "metadata": {}
        }
      ]
    }
  ]
}